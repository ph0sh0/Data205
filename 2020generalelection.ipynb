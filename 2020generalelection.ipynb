{
  "nbformat": 4,
  "nbformat_minor": 0,
  "metadata": {
    "colab": {
      "provenance": []
    },
    "kernelspec": {
      "name": "python3",
      "display_name": "Python 3"
    },
    "language_info": {
      "name": "python"
    }
  },
  "cells": [
    {
      "cell_type": "code",
      "execution_count": null,
      "metadata": {
        "colab": {
          "base_uri": "https://localhost:8080/"
        },
        "id": "Esr3qVx9SzP6",
        "outputId": "9632da39-d72f-4ccf-a439-0c7abce1bc38"
      },
      "outputs": [
        {
          "output_type": "stream",
          "name": "stdout",
          "text": [
            "['1. 2020 Publication Information', '2. Table 1 Pres Popular Vote', '3. Table 2 Electoral & Pop Vote', '4. Table 3 GEVotefor Pres, H, S', '5. Table 4 GE VotesCastbyParty', '6. Table 5 P&GVotesCastforCong', '7. Table 6 Senate by Party', '8. Table 7 House by Party', '9. 2020 Pres General Results', '10. 2020 Pres Primary Results', '11.  Pres Primary Party Summary', '12. US Senate Results by State', '13. US House Results by State', '14. 2020 Party Labels', '15. 2020 Primary Dates', '16. Appendix 1A', '17. Appendix 1B', '18. Appendix 1C', '19. Special Elections 2019-2021']\n"
          ]
        }
      ],
      "source": [
        "import pandas as pd\n",
        "\n",
        "# Load the Excel file\n",
        "file_path = '/content/drive/MyDrive/federalelections2020.xlsx'\n",
        "xls = pd.ExcelFile(file_path)\n",
        "\n",
        "# Display the available sheet names\n",
        "print(xls.sheet_names)\n"
      ]
    },
    {
      "cell_type": "code",
      "source": [
        "#  Load a specific sheet into a DataFrame\n",
        "df = pd.read_excel(file_path, sheet_name='9. 2020 Pres General Results')\n",
        "\n",
        "# Display the first few rows of the DataFrame\n",
        "print(df.head())\n"
      ],
      "metadata": {
        "colab": {
          "base_uri": "https://localhost:8080/"
        },
        "id": "zY-yS25yTYPQ",
        "outputId": "1508a364-a89f-4ffe-b77e-adfad1bd9e7d"
      },
      "execution_count": null,
      "outputs": [
        {
          "output_type": "stream",
          "name": "stdout",
          "text": [
            "   1     FEC ID    STATE STATE ABBREVIATION GENERAL ELECTION DATE FIRST NAME  \\\n",
            "0  2        NaN      NaN                NaN                   NaT        NaN   \n",
            "1  3  P80001571  Alabama                 AL            2020-11-03  Donald J.   \n",
            "2  4  P80000722  Alabama                 AL            2020-11-03  Joseph R.   \n",
            "3  5  P00013524  Alabama                 AL            2020-11-03         Jo   \n",
            "4  6        NaN  Alabama                 AL            2020-11-03        NaN   \n",
            "\n",
            "   LAST NAME LAST NAME,  FIRST TOTAL VOTES PARTY  GENERAL RESULTS  GENERAL %  \\\n",
            "0        NaN               NaN         NaN   NaN              NaN        NaN   \n",
            "1      Trump  Trump, Donald J.         NaN     R        1441170.0   0.620316   \n",
            "2      Biden  Biden, Joseph R.         NaN     D         849624.0   0.365700   \n",
            "3  Jorgensen     Jorgensen, Jo         NaN   IND          25176.0   0.010836   \n",
            "4  Scattered         Scattered         NaN     W           7312.0   0.003147   \n",
            "\n",
            "   TOTAL VOTES # COMBINED GE PARTY TOTALS (NY)  COMBINED % (NY)  \\\n",
            "0            NaN                           NaN              NaN   \n",
            "1            NaN                           NaN              NaN   \n",
            "2            NaN                           NaN              NaN   \n",
            "3            NaN                           NaN              NaN   \n",
            "4            NaN                           NaN              NaN   \n",
            "\n",
            "  WINNER INDICATOR ELECTORAL VOTES FOOTNOTES  \n",
            "0              NaN             NaN       NaN  \n",
            "1                W               9       NaN  \n",
            "2              NaN             NaN       NaN  \n",
            "3              NaN             NaN       NaN  \n",
            "4              NaN             NaN       NaN  \n"
          ]
        }
      ]
    },
    {
      "cell_type": "code",
      "source": [
        "# Drop rows where essential columns like 'STATE' or 'GENERAL RESULTS' are missing\n",
        "df = df.dropna(subset=['STATE', 'GENERAL RESULTS'])\n"
      ],
      "metadata": {
        "id": "tZ2FMrtwTzd8"
      },
      "execution_count": null,
      "outputs": []
    },
    {
      "cell_type": "code",
      "source": [
        "#Renaming\n",
        "df.rename(columns={'STATE ABBREVIATION': 'State Abbreviation', 'GENERAL RESULTS': 'General Results'}, inplace=True)\n"
      ],
      "metadata": {
        "id": "paFwmEWWUCM6"
      },
      "execution_count": null,
      "outputs": []
    },
    {
      "cell_type": "code",
      "source": [
        "# Convert 'GENERAL RESULTS' and 'GENERAL %' columns to numeric if necessary\n",
        "df['General Results'] = pd.to_numeric(df['General Results'], errors='coerce')\n",
        "df['GENERAL %'] = pd.to_numeric(df['GENERAL %'], errors='coerce')\n"
      ],
      "metadata": {
        "id": "tSkaA9Y0ULFp"
      },
      "execution_count": null,
      "outputs": []
    },
    {
      "cell_type": "code",
      "source": [
        "print(df.columns)\n"
      ],
      "metadata": {
        "colab": {
          "base_uri": "https://localhost:8080/"
        },
        "id": "udoIJ4d3V53P",
        "outputId": "e036ebfa-d734-4273-917b-27b56397f3ac"
      },
      "execution_count": null,
      "outputs": [
        {
          "output_type": "stream",
          "name": "stdout",
          "text": [
            "Index([                              1,                        'FEC ID',\n",
            "                               'STATE',            'State Abbreviation',\n",
            "               'GENERAL ELECTION DATE',                    'FIRST NAME',\n",
            "                           'LAST NAME',             'LAST NAME,  FIRST',\n",
            "                         'TOTAL VOTES',                         'PARTY',\n",
            "                     'General Results',                     'GENERAL %',\n",
            "                       'TOTAL VOTES #', 'COMBINED GE PARTY TOTALS (NY)',\n",
            "                     'COMBINED % (NY)',              'WINNER INDICATOR',\n",
            "                     'ELECTORAL VOTES',                     'FOOTNOTES'],\n",
            "      dtype='object')\n"
          ]
        }
      ]
    },
    {
      "cell_type": "code",
      "source": [
        "df.columns = df.columns.str.strip()\n"
      ],
      "metadata": {
        "id": "h5-gFK5EV-5s"
      },
      "execution_count": null,
      "outputs": []
    },
    {
      "cell_type": "code",
      "source": [
        "# Converting to numeric again (if applicable)\n",
        "df['General Results'] = pd.to_numeric(df['General Results'], errors='coerce')\n",
        "\n",
        "# Grouping data by party\n",
        "countrywide_votes = df.groupby('PARTY')['General Results'].sum().sort_values(ascending=False)\n",
        "\n",
        "# Displaying top two parties\n",
        "top_two_parties = countrywide_votes.head(2)\n",
        "print(top_two_parties)\n"
      ],
      "metadata": {
        "colab": {
          "base_uri": "https://localhost:8080/"
        },
        "id": "EE482bDpWDJh",
        "outputId": "fcef9db4-3b33-477f-ca35-248e7ad6b25e"
      },
      "execution_count": null,
      "outputs": [
        {
          "output_type": "stream",
          "name": "stdout",
          "text": [
            "PARTY\n",
            "D    79064769.0\n",
            "R    73927640.0\n",
            "Name: General Results, dtype: float64\n"
          ]
        }
      ]
    },
    {
      "cell_type": "code",
      "source": [
        "import matplotlib.pyplot as plt"
      ],
      "metadata": {
        "id": "sG8vEUDwVNMK"
      },
      "execution_count": null,
      "outputs": []
    },
    {
      "cell_type": "code",
      "source": [
        "\n",
        "# Plotting with specified colors and data labels\n",
        "plt.figure(figsize=(8, 5))\n",
        "colors = ['blue', 'red']  # Blue for Democratic, Red for Republican\n",
        "ax = top_two_parties.plot(kind='bar', color=colors, title='General Election Results, US', ylabel='Total Votes', xlabel='Party')\n",
        "plt.xticks(rotation=0)\n",
        "\n",
        "# Adding data labels on top of each bar\n",
        "for i, v in enumerate(top_two_parties):\n",
        "    ax.text(i, v + 1000000, f'{int(v):,}', ha='center', va='bottom')\n",
        "\n",
        "plt.tight_layout()\n",
        "plt.show()\n"
      ],
      "metadata": {
        "colab": {
          "base_uri": "https://localhost:8080/",
          "height": 507
        },
        "id": "3K1cFf4NUY27",
        "outputId": "6655486d-b292-46a0-e2dd-c1109ec375f3"
      },
      "execution_count": null,
      "outputs": [
        {
          "output_type": "display_data",
          "data": {
            "text/plain": [
              "<Figure size 800x500 with 1 Axes>"
            ],
            "image/png": "[encoded data removed]"
          },
          "metadata": {}
        }
      ]
    },
    {
      "cell_type": "code",
      "source": [
        "pip install geopandas plotly pandas\n"
      ],
      "metadata": {
        "colab": {
          "base_uri": "https://localhost:8080/"
        },
        "id": "OaX5sOk9WxSK",
        "outputId": "775b293e-8263-4f60-91eb-99a310e34c87"
      },
      "execution_count": null,
      "outputs": [
        {
          "output_type": "stream",
          "name": "stdout",
          "text": [
            "Requirement already satisfied: geopandas in /usr/local/lib/python3.10/dist-packages (1.0.1)\n",
            "Requirement already satisfied: plotly in /usr/local/lib/python3.10/dist-packages (5.24.1)\n",
            "Requirement already satisfied: pandas in /usr/local/lib/python3.10/dist-packages (2.2.2)\n",
            "Requirement already satisfied: numpy>=1.22 in /usr/local/lib/python3.10/dist-packages (from geopandas) (1.26.4)\n",
            "Requirement already satisfied: pyogrio>=0.7.2 in /usr/local/lib/python3.10/dist-packages (from geopandas) (0.10.0)\n",
            "Requirement already satisfied: packaging in /usr/local/lib/python3.10/dist-packages (from geopandas) (24.1)\n",
            "Requirement already satisfied: pyproj>=3.3.0 in /usr/local/lib/python3.10/dist-packages (from geopandas) (3.7.0)\n",
            "Requirement already satisfied: shapely>=2.0.0 in /usr/local/lib/python3.10/dist-packages (from geopandas) (2.0.6)\n",
            "Requirement already satisfied: tenacity>=6.2.0 in /usr/local/lib/python3.10/dist-packages (from plotly) (9.0.0)\n",
            "Requirement already satisfied: python-dateutil>=2.8.2 in /usr/local/lib/python3.10/dist-packages (from pandas) (2.8.2)\n",
            "Requirement already satisfied: pytz>=2020.1 in /usr/local/lib/python3.10/dist-packages (from pandas) (2024.2)\n",
            "Requirement already satisfied: tzdata>=2022.7 in /usr/local/lib/python3.10/dist-packages (from pandas) (2024.2)\n",
            "Requirement already satisfied: certifi in /usr/local/lib/python3.10/dist-packages (from pyogrio>=0.7.2->geopandas) (2024.8.30)\n",
            "Requirement already satisfied: six>=1.5 in /usr/local/lib/python3.10/dist-packages (from python-dateutil>=2.8.2->pandas) (1.16.0)\n"
          ]
        }
      ]
    },
    {
      "cell_type": "code",
      "source": [
        "# Convert 'ELECTORAL VOTES' column to numeric, forcing errors to NaN\n",
        "df['ELECTORAL VOTES'] = pd.to_numeric(df['ELECTORAL VOTES'], errors='coerce')\n",
        "\n",
        "# Drop rows with NaN values in 'ELECTORAL VOTES' after conversion\n",
        "df = df.dropna(subset=['ELECTORAL VOTES'])\n",
        "\n",
        "# Grouping and selecting data as before\n",
        "df = df.groupby(['STATE ABBREVIATION', 'PARTY'], as_index=False).agg({'ELECTORAL VOTES': 'max'})\n",
        "df = df.sort_values('ELECTORAL VOTES', ascending=False).drop_duplicates('STATE ABBREVIATION')\n"
      ],
      "metadata": {
        "id": "Xr_PI1XvYYH7"
      },
      "execution_count": null,
      "outputs": []
    },
    {
      "cell_type": "code",
      "source": [
        "# Filter to keep only 'D' and 'R' parties\n",
        "df = df[df['PARTY'].isin(['D', 'R'])]\n"
      ],
      "metadata": {
        "id": "L3CzF6nHZYPT"
      },
      "execution_count": null,
      "outputs": []
    },
    {
      "cell_type": "code",
      "source": [],
      "metadata": {
        "id": "BDIR1WOyZaWx"
      },
      "execution_count": null,
      "outputs": []
    },
    {
      "cell_type": "code",
      "source": [
        "print(df[df['STATE ABBREVIATION'] == 'MN'])\n"
      ],
      "metadata": {
        "colab": {
          "base_uri": "https://localhost:8080/"
        },
        "id": "nYWJlx44aNGa",
        "outputId": "6b89b9d3-6aea-4bfc-8148-483786a6bef5"
      },
      "execution_count": null,
      "outputs": [
        {
          "output_type": "stream",
          "name": "stdout",
          "text": [
            "Empty DataFrame\n",
            "Columns: [STATE ABBREVIATION, PARTY, ELECTORAL VOTES]\n",
            "Index: []\n"
          ]
        }
      ]
    },
    {
      "cell_type": "code",
      "source": [
        "# Check the original DataFrame for rows with 'MN'\n",
        "original_df = pd.read_excel(file_path, sheet_name='9. 2020 Pres General Results')\n",
        "print(original_df[original_df['STATE ABBREVIATION'] == 'MN'])\n"
      ],
      "metadata": {
        "colab": {
          "base_uri": "https://localhost:8080/"
        },
        "id": "hJ8eKfFEaZa6",
        "outputId": "725814bd-d20a-444d-d399-b76ed748b23f"
      },
      "execution_count": null,
      "outputs": [
        {
          "output_type": "stream",
          "name": "stdout",
          "text": [
            "       1     FEC ID      STATE STATE ABBREVIATION GENERAL ELECTION DATE  \\\n",
            "343  345  P80000722  Minnesota                 MN            2020-11-03   \n",
            "344  346  P80001571  Minnesota                 MN            2020-11-03   \n",
            "345  347  P00013524  Minnesota                 MN            2020-11-03   \n",
            "346  348  P00012211  Minnesota                 MN            2020-11-03   \n",
            "347  349        NaN  Minnesota                 MN            2020-11-03   \n",
            "348  350  P00016741  Minnesota                 MN            2020-11-03   \n",
            "349  351  P00016550  Minnesota                 MN            2020-11-03   \n",
            "350  352  P60016342  Minnesota                 MN            2020-11-03   \n",
            "351  353  P80005572  Minnesota                 MN            2020-11-03   \n",
            "352  354  P00013771  Minnesota                 MN            2020-11-03   \n",
            "353  355  P80005473  Minnesota                 MN            2020-11-03   \n",
            "354  356  P00012039  Minnesota                 MN            2020-11-03   \n",
            "355  357  P00014209  Minnesota                 MN            2020-11-03   \n",
            "356  358  P20005260  Minnesota                 MN            2020-11-03   \n",
            "357  359  P00017294  Minnesota                 MN            2020-11-03   \n",
            "358  360  P00017475  Minnesota                 MN            2020-11-03   \n",
            "359  361        NaN  Minnesota                 MN            2020-11-03   \n",
            "360  362        NaN  Minnesota                 MN            2020-11-03   \n",
            "361  363  P00011189  Minnesota                 MN            2020-11-03   \n",
            "362  364  P00010124  Minnesota                 MN            2020-11-03   \n",
            "363  365        NaN  Minnesota                 MN            2020-11-03   \n",
            "\n",
            "                 FIRST NAME     LAST NAME  \\\n",
            "343               Joseph R.         Biden   \n",
            "344               Donald J.         Trump   \n",
            "345                      Jo     Jorgensen   \n",
            "346                   Howie       Hawkins   \n",
            "347                     NaN     Scattered   \n",
            "348                   Kanye          West   \n",
            "349                   Brock        Pierce   \n",
            "350           Roque \"Rocky\"  De La Fuente   \n",
            "351                  Gloria       La Riva   \n",
            "352                   Brian       Carroll   \n",
            "353                  Alyson       Kennedy   \n",
            "354                    Mark       Charles   \n",
            "355                     Don   Blankenship   \n",
            "356                     Tom      Hoefling   \n",
            "357                 Michael        Laboch   \n",
            "358                   Jason        Stanek   \n",
            "359  Frederick Michael Carl  Frederickson   \n",
            "360                 Ryan J.        Gilmer   \n",
            "361                   Shawn        Howard   \n",
            "362                   Dario        Hunter   \n",
            "363                     NaN           NaN   \n",
            "\n",
            "                        LAST NAME,  FIRST         TOTAL VOTES PARTY  \\\n",
            "343                      Biden, Joseph R.                 NaN   DFL   \n",
            "344                      Trump, Donald J.                 NaN     R   \n",
            "345                         Jorgensen, Jo                 NaN   LIB   \n",
            "346                        Hawkins, Howie                 NaN   GRE   \n",
            "347                             Scattered                 NaN     W   \n",
            "348                           West, Kanye                 NaN   IND   \n",
            "349                         Pierce, Brock                 NaN   IND   \n",
            "350           De La Fuente, Roque \"Rocky\"                 NaN   IAL   \n",
            "351                       La Riva, Gloria                 NaN   SLP   \n",
            "352                        Carroll, Brian                 NaN     W   \n",
            "353                       Kennedy, Alyson                 NaN   SWP   \n",
            "354                         Charles, Mark                 NaN     W   \n",
            "355                      Blankenship, Don                 NaN     W   \n",
            "356                         Hoefling, Tom                 NaN     W   \n",
            "357                       Laboch, Michael                 NaN     W   \n",
            "358                         Stanek, Jason                 NaN     W   \n",
            "359  Frederickson, Frederick Michael Carl                 NaN     W   \n",
            "360                       Gilmer, Ryan J.                 NaN     W   \n",
            "361                         Howard, Shawn                 NaN     W   \n",
            "362                         Hunter, Dario                 NaN     W   \n",
            "363                                   NaN  Total State Votes:   NaN   \n",
            "\n",
            "     GENERAL RESULTS     GENERAL %  TOTAL VOTES #  \\\n",
            "343        1717077.0  5.239510e-01            NaN   \n",
            "344        1484065.0  4.528494e-01            NaN   \n",
            "345          34976.0  1.067262e-02            NaN   \n",
            "346          10033.0  3.061482e-03            NaN   \n",
            "347           8721.0  2.661137e-03            NaN   \n",
            "348           7940.0  2.422821e-03            NaN   \n",
            "349           5651.0  1.724353e-03            NaN   \n",
            "350           5611.0  1.712147e-03            NaN   \n",
            "351           1210.0  3.692209e-04            NaN   \n",
            "352           1037.0  3.164315e-04            NaN   \n",
            "353            643.0  1.962058e-04            NaN   \n",
            "354            112.0  3.417582e-05            NaN   \n",
            "355             75.0  2.288559e-05            NaN   \n",
            "356             12.0  3.661695e-06            NaN   \n",
            "357              2.0  6.102825e-07            NaN   \n",
            "358              2.0  6.102825e-07            NaN   \n",
            "359              1.0  3.051412e-07            NaN   \n",
            "360              1.0  3.051412e-07            NaN   \n",
            "361              1.0  3.051412e-07            NaN   \n",
            "362              1.0  3.051412e-07            NaN   \n",
            "363              NaN           NaN      3277171.0   \n",
            "\n",
            "    COMBINED GE PARTY TOTALS (NY)  COMBINED % (NY) WINNER INDICATOR  \\\n",
            "343                           NaN              NaN                W   \n",
            "344                           NaN              NaN              NaN   \n",
            "345                           NaN              NaN              NaN   \n",
            "346                           NaN              NaN              NaN   \n",
            "347                           NaN              NaN              NaN   \n",
            "348                           NaN              NaN              NaN   \n",
            "349                           NaN              NaN              NaN   \n",
            "350                           NaN              NaN              NaN   \n",
            "351                           NaN              NaN              NaN   \n",
            "352                           NaN              NaN              NaN   \n",
            "353                           NaN              NaN              NaN   \n",
            "354                           NaN              NaN              NaN   \n",
            "355                           NaN              NaN              NaN   \n",
            "356                           NaN              NaN              NaN   \n",
            "357                           NaN              NaN              NaN   \n",
            "358                           NaN              NaN              NaN   \n",
            "359                           NaN              NaN              NaN   \n",
            "360                           NaN              NaN              NaN   \n",
            "361                           NaN              NaN              NaN   \n",
            "362                           NaN              NaN              NaN   \n",
            "363                           NaN              NaN              NaN   \n",
            "\n",
            "    ELECTORAL VOTES FOOTNOTES  \n",
            "343              10       NaN  \n",
            "344             NaN       NaN  \n",
            "345             NaN       NaN  \n",
            "346             NaN       NaN  \n",
            "347             NaN       NaN  \n",
            "348             NaN       NaN  \n",
            "349             NaN       NaN  \n",
            "350             NaN       NaN  \n",
            "351             NaN       NaN  \n",
            "352             NaN       NaN  \n",
            "353             NaN       NaN  \n",
            "354             NaN       NaN  \n",
            "355             NaN       NaN  \n",
            "356             NaN       NaN  \n",
            "357             NaN       NaN  \n",
            "358             NaN       NaN  \n",
            "359             NaN       NaN  \n",
            "360             NaN       NaN  \n",
            "361             NaN       NaN  \n",
            "362             NaN       NaN  \n",
            "363             NaN       NaN  \n"
          ]
        }
      ]
    },
    {
      "cell_type": "code",
      "source": [
        "# Display unique party values\n",
        "print(original_df['PARTY'].unique())\n"
      ],
      "metadata": {
        "colab": {
          "base_uri": "https://localhost:8080/"
        },
        "id": "1Dcr6OrSaoBD",
        "outputId": "83af41c9-ccf2-4709-8f92-14bf82020ece"
      },
      "execution_count": null,
      "outputs": [
        {
          "output_type": "stream",
          "name": "stdout",
          "text": [
            "[nan 'R' 'D' 'IND' 'W' 'LIB' 'GRE' 'CON' 'PET' 'ALL' 'ASP' 'LAL' 'SLP'\n",
            " 'AIP' 'PAF' 'UN' 'AMC' 'UPC' 'IAP' 'P' 'PRO' 'APV' 'SWP' 'SEP' 'GPD'\n",
            " 'STG' 'LBF' 'GPF' 'RPF' 'PSL' 'CPF' 'AMS' 'NPY' 'CPI' 'GKH' 'TBP' 'BON'\n",
            " 'CUP' 'FP' 'LLC' 'UPA' 'GI' 'BR' 'GR' 'UST' 'NLP' 'DFL' 'IAL'\n",
            " 'Combined Parties:' 'WF' 'CRV' 'IDP' 'DNL' 'PG' 'GRU' 'LBU' 'BF' 'BUL'\n",
            " 'MTP']\n"
          ]
        }
      ]
    },
    {
      "cell_type": "code",
      "source": [
        "# Replace 'DFL' with 'D' in the PARTY column\n",
        "df['PARTY'] = df['PARTY'].replace('DFL', 'D')\n"
      ],
      "metadata": {
        "colab": {
          "base_uri": "https://localhost:8080/"
        },
        "id": "3ErQxEaCa1jM",
        "outputId": "3b0fb97d-b1aa-49b5-fe1a-25b957e17d80"
      },
      "execution_count": null,
      "outputs": [
        {
          "output_type": "stream",
          "name": "stderr",
          "text": [
            "<ipython-input-36-4e28bc576d32>:2: SettingWithCopyWarning:\n",
            "\n",
            "\n",
            "A value is trying to be set on a copy of a slice from a DataFrame.\n",
            "Try using .loc[row_indexer,col_indexer] = value instead\n",
            "\n",
            "See the caveats in the documentation: https://pandas.pydata.org/pandas-docs/stable/user_guide/indexing.html#returning-a-view-versus-a-copy\n",
            "\n"
          ]
        }
      ]
    },
    {
      "cell_type": "code",
      "source": [
        "# Replace 'Combined Parties:' and 'WF' with 'D' in the PARTY column\n",
        "df['PARTY'] = df['PARTY'].replace({\n",
        "    'Combined Parties:': 'D',\n",
        "    'WF': 'D'\n",
        "})\n",
        "\n",
        "\n"
      ],
      "metadata": {
        "id": "vn6Ob2wvcWAZ"
      },
      "execution_count": null,
      "outputs": []
    },
    {
      "cell_type": "code",
      "source": [
        "import pandas as pd\n",
        "import plotly.express as px\n",
        "\n",
        "# Load data from the specified sheet (assuming you already have this data)\n",
        "file_path = '/content/drive/MyDrive/federalelections2020.xlsx'\n",
        "df = pd.read_excel(file_path, sheet_name='9. 2020 Pres General Results')\n",
        "\n",
        "# Data Cleaning and Conversion\n",
        "df['ELECTORAL VOTES'] = pd.to_numeric(df['ELECTORAL VOTES'], errors='coerce')\n",
        "df = df.dropna(subset=['STATE ABBREVIATION', 'PARTY', 'ELECTORAL VOTES'])\n",
        "\n",
        "# Replace 'DFL' with 'D'\n",
        "df['PARTY'] = df['PARTY'].replace('DFL', 'D')\n",
        "# Replace 'Combined Parties:' and 'WF' with 'D' in the PARTY column\n",
        "df['PARTY'] = df['PARTY'].replace({\n",
        "    'Combined Parties:': 'D',\n",
        "    'WF': 'D'\n",
        "})\n",
        "\n",
        "# Grouping and selecting data as before\n",
        "df = df.groupby(['STATE ABBREVIATION', 'PARTY'], as_index=False).agg({'ELECTORAL VOTES': 'max'})\n",
        "df = df.sort_values('ELECTORAL VOTES', ascending=False).drop_duplicates('STATE ABBREVIATION')\n",
        "\n",
        "# Filter to keep only 'D' and 'R' parties\n",
        "df = df[df['PARTY'].isin(['D', 'R'])]\n",
        "\n",
        "# Create a color map for parties\n",
        "party_colors = {\n",
        "    'D': 'blue',  # Democrat\n",
        "    'R': 'red'    # Republican\n",
        "}\n",
        "\n",
        "# Create a choropleth map using plotly\n",
        "fig = px.choropleth(\n",
        "    df,\n",
        "    locations='STATE ABBREVIATION',\n",
        "    locationmode=\"USA-states\",\n",
        "    color='PARTY',\n",
        "    hover_name='STATE ABBREVIATION',\n",
        "    hover_data=['ELECTORAL VOTES'],\n",
        "    scope=\"usa\",\n",
        "    color_discrete_map=party_colors\n",
        ")\n",
        "\n",
        "fig.update_layout(\n",
        "    title_text='2020 Presidential Election Results by State (D and R)',\n",
        "    geo=dict(lakecolor='rgb(255, 255, 255)')\n",
        ")\n",
        "\n",
        "fig.show()\n"
      ],
      "metadata": {
        "colab": {
          "base_uri": "https://localhost:8080/",
          "height": 542
        },
        "id": "WuraPGjubI-6",
        "outputId": "de36db12-f43d-4246-9d52-ae02bcf5706d"
      },
      "execution_count": null,
      "outputs": [
        {
          "output_type": "display_data",
          "data": {
            "text/html": [
              "<html>\n",
              "<head><meta charset=\"utf-8\" /></head>\n",
              "<body>\n",
              "    <div>            <script src=\"https://cdnjs.cloudflare.com/ajax/libs/mathjax/2.7.5/MathJax.js?config=TeX-AMS-MML_SVG\"></script><script type=\"text/javascript\">if (window.MathJax && window.MathJax.Hub && window.MathJax.Hub.Config) {window.MathJax.Hub.Config({SVG: {font: \"STIX-Web\"}});}</script>                <script type=\"text/javascript\">window.PlotlyConfig = {MathJaxConfig: 'local'};</script>\n",
              "        <script charset=\"utf-8\" src=\"https://cdn.plot.ly/plotly-2.35.2.min.js\"></script>                <div id=\"8b8cd701-c28b-4a35-af72-ba3c4435d514\" class=\"plotly-graph-div\" style=\"height:525px; width:100%;\"></div>            <script type=\"text/javascript\">                                    window.PLOTLYENV=window.PLOTLYENV || {};                                    if (document.getElementById(\"8b8cd701-c28b-4a35-af72-ba3c4435d514\")) {                    Plotly.newPlot(                        \"8b8cd701-c28b-4a35-af72-ba3c4435d514\",                        [{\"colorscale\":[[0.0,\"blue\"],[1.0,\"blue\"]],\"customdata\":[[55.0],[29.0],[20.0],[20.0],[16.0],[16.0],[14.0],[13.0],[12.0],[11.0],[11.0],[10.0],[10.0],[10.0],[9.0],[7.0],[7.0],[6.0],[5.0],[4.0],[4.0],[4.0],[3.0],[3.0],[3.0],[3.0]],\"geo\":\"geo\",\"hovertemplate\":\"\\u003cb\\u003e%{hovertext}\\u003c\\u002fb\\u003e\\u003cbr\\u003e\\u003cbr\\u003ePARTY=D\\u003cbr\\u003eSTATE ABBREVIATION=%{location}\\u003cbr\\u003eELECTORAL VOTES=%{customdata[0]}\\u003cextra\\u003e\\u003c\\u002fextra\\u003e\",\"hovertext\":[\"CA\",\"NY\",\"PA\",\"IL\",\"GA\",\"MI\",\"NJ\",\"VA\",\"WA\",\"AZ\",\"MA\",\"WI\",\"MN\",\"MD\",\"CO\",\"OR\",\"CT\",\"NV\",\"NM\",\"NH\",\"HI\",\"RI\",\"VT\",\"ME\",\"DE\",\"DC\"],\"locationmode\":\"USA-states\",\"locations\":[\"CA\",\"NY\",\"PA\",\"IL\",\"GA\",\"MI\",\"NJ\",\"VA\",\"WA\",\"AZ\",\"MA\",\"WI\",\"MN\",\"MD\",\"CO\",\"OR\",\"CT\",\"NV\",\"NM\",\"NH\",\"HI\",\"RI\",\"VT\",\"ME\",\"DE\",\"DC\"],\"name\":\"D\",\"showlegend\":true,\"showscale\":false,\"z\":[1,1,1,1,1,1,1,1,1,1,1,1,1,1,1,1,1,1,1,1,1,1,1,1,1,1],\"type\":\"choropleth\"},{\"colorscale\":[[0.0,\"red\"],[1.0,\"red\"]],\"customdata\":[[38.0],[29.0],[18.0],[15.0],[11.0],[11.0],[10.0],[9.0],[9.0],[8.0],[8.0],[7.0],[6.0],[6.0],[6.0],[6.0],[6.0],[5.0],[4.0],[4.0],[3.0],[3.0],[3.0],[3.0],[3.0]],\"geo\":\"geo\",\"hovertemplate\":\"\\u003cb\\u003e%{hovertext}\\u003c\\u002fb\\u003e\\u003cbr\\u003e\\u003cbr\\u003ePARTY=R\\u003cbr\\u003eSTATE ABBREVIATION=%{location}\\u003cbr\\u003eELECTORAL VOTES=%{customdata[0]}\\u003cextra\\u003e\\u003c\\u002fextra\\u003e\",\"hovertext\":[\"TX\",\"FL\",\"OH\",\"NC\",\"IN\",\"TN\",\"MO\",\"AL\",\"SC\",\"KY\",\"LA\",\"OK\",\"MS\",\"KS\",\"AR\",\"IA\",\"UT\",\"WV\",\"NE\",\"ID\",\"AK\",\"SD\",\"ND\",\"MT\",\"WY\"],\"locationmode\":\"USA-states\",\"locations\":[\"TX\",\"FL\",\"OH\",\"NC\",\"IN\",\"TN\",\"MO\",\"AL\",\"SC\",\"KY\",\"LA\",\"OK\",\"MS\",\"KS\",\"AR\",\"IA\",\"UT\",\"WV\",\"NE\",\"ID\",\"AK\",\"SD\",\"ND\",\"MT\",\"WY\"],\"name\":\"R\",\"showlegend\":true,\"showscale\":false,\"z\":[1,1,1,1,1,1,1,1,1,1,1,1,1,1,1,1,1,1,1,1,1,1,1,1,1],\"type\":\"choropleth\"}],                        {\"template\":{\"data\":{\"histogram2dcontour\":[{\"type\":\"histogram2dcontour\",\"colorbar\":{\"outlinewidth\":0,\"ticks\":\"\"},\"colorscale\":[[0.0,\"#0d0887\"],[0.1111111111111111,\"#46039f\"],[0.2222222222222222,\"#7201a8\"],[0.3333333333333333,\"#9c179e\"],[0.4444444444444444,\"#bd3786\"],[0.5555555555555556,\"#d8576b\"],[0.6666666666666666,\"#ed7953\"],[0.7777777777777778,\"#fb9f3a\"],[0.8888888888888888,\"#fdca26\"],[1.0,\"#f0f921\"]]}],\"choropleth\":[{\"type\":\"choropleth\",\"colorbar\":{\"outlinewidth\":0,\"ticks\":\"\"}}],\"histogram2d\":[{\"type\":\"histogram2d\",\"colorbar\":{\"outlinewidth\":0,\"ticks\":\"\"},\"colorscale\":[[0.0,\"#0d0887\"],[0.1111111111111111,\"#46039f\"],[0.2222222222222222,\"#7201a8\"],[0.3333333333333333,\"#9c179e\"],[0.4444444444444444,\"#bd3786\"],[0.5555555555555556,\"#d8576b\"],[0.6666666666666666,\"#ed7953\"],[0.7777777777777778,\"#fb9f3a\"],[0.8888888888888888,\"#fdca26\"],[1.0,\"#f0f921\"]]}],\"heatmap\":[{\"type\":\"heatmap\",\"colorbar\":{\"outlinewidth\":0,\"ticks\":\"\"},\"colorscale\":[[0.0,\"#0d0887\"],[0.1111111111111111,\"#46039f\"],[0.2222222222222222,\"#7201a8\"],[0.3333333333333333,\"#9c179e\"],[0.4444444444444444,\"#bd3786\"],[0.5555555555555556,\"#d8576b\"],[0.6666666666666666,\"#ed7953\"],[0.7777777777777778,\"#fb9f3a\"],[0.8888888888888888,\"#fdca26\"],[1.0,\"#f0f921\"]]}],\"heatmapgl\":[{\"type\":\"heatmapgl\",\"colorbar\":{\"outlinewidth\":0,\"ticks\":\"\"},\"colorscale\":[[0.0,\"#0d0887\"],[0.1111111111111111,\"#46039f\"],[0.2222222222222222,\"#7201a8\"],[0.3333333333333333,\"#9c179e\"],[0.4444444444444444,\"#bd3786\"],[0.5555555555555556,\"#d8576b\"],[0.6666666666666666,\"#ed7953\"],[0.7777777777777778,\"#fb9f3a\"],[0.8888888888888888,\"#fdca26\"],[1.0,\"#f0f921\"]]}],\"contourcarpet\":[{\"type\":\"contourcarpet\",\"colorbar\":{\"outlinewidth\":0,\"ticks\":\"\"}}],\"contour\":[{\"type\":\"contour\",\"colorbar\":{\"outlinewidth\":0,\"ticks\":\"\"},\"colorscale\":[[0.0,\"#0d0887\"],[0.1111111111111111,\"#46039f\"],[0.2222222222222222,\"#7201a8\"],[0.3333333333333333,\"#9c179e\"],[0.4444444444444444,\"#bd3786\"],[0.5555555555555556,\"#d8576b\"],[0.6666666666666666,\"#ed7953\"],[0.7777777777777778,\"#fb9f3a\"],[0.8888888888888888,\"#fdca26\"],[1.0,\"#f0f921\"]]}],\"surface\":[{\"type\":\"surface\",\"colorbar\":{\"outlinewidth\":0,\"ticks\":\"\"},\"colorscale\":[[0.0,\"#0d0887\"],[0.1111111111111111,\"#46039f\"],[0.2222222222222222,\"#7201a8\"],[0.3333333333333333,\"#9c179e\"],[0.4444444444444444,\"#bd3786\"],[0.5555555555555556,\"#d8576b\"],[0.6666666666666666,\"#ed7953\"],[0.7777777777777778,\"#fb9f3a\"],[0.8888888888888888,\"#fdca26\"],[1.0,\"#f0f921\"]]}],\"mesh3d\":[{\"type\":\"mesh3d\",\"colorbar\":{\"outlinewidth\":0,\"ticks\":\"\"}}],\"scatter\":[{\"fillpattern\":{\"fillmode\":\"overlay\",\"size\":10,\"solidity\":0.2},\"type\":\"scatter\"}],\"parcoords\":[{\"type\":\"parcoords\",\"line\":{\"colorbar\":{\"outlinewidth\":0,\"ticks\":\"\"}}}],\"scatterpolargl\":[{\"type\":\"scatterpolargl\",\"marker\":{\"colorbar\":{\"outlinewidth\":0,\"ticks\":\"\"}}}],\"bar\":[{\"error_x\":{\"color\":\"#2a3f5f\"},\"error_y\":{\"color\":\"#2a3f5f\"},\"marker\":{\"line\":{\"color\":\"#E5ECF6\",\"width\":0.5},\"pattern\":{\"fillmode\":\"overlay\",\"size\":10,\"solidity\":0.2}},\"type\":\"bar\"}],\"scattergeo\":[{\"type\":\"scattergeo\",\"marker\":{\"colorbar\":{\"outlinewidth\":0,\"ticks\":\"\"}}}],\"scatterpolar\":[{\"type\":\"scatterpolar\",\"marker\":{\"colorbar\":{\"outlinewidth\":0,\"ticks\":\"\"}}}],\"histogram\":[{\"marker\":{\"pattern\":{\"fillmode\":\"overlay\",\"size\":10,\"solidity\":0.2}},\"type\":\"histogram\"}],\"scattergl\":[{\"type\":\"scattergl\",\"marker\":{\"colorbar\":{\"outlinewidth\":0,\"ticks\":\"\"}}}],\"scatter3d\":[{\"type\":\"scatter3d\",\"line\":{\"colorbar\":{\"outlinewidth\":0,\"ticks\":\"\"}},\"marker\":{\"colorbar\":{\"outlinewidth\":0,\"ticks\":\"\"}}}],\"scattermapbox\":[{\"type\":\"scattermapbox\",\"marker\":{\"colorbar\":{\"outlinewidth\":0,\"ticks\":\"\"}}}],\"scatterternary\":[{\"type\":\"scatterternary\",\"marker\":{\"colorbar\":{\"outlinewidth\":0,\"ticks\":\"\"}}}],\"scattercarpet\":[{\"type\":\"scattercarpet\",\"marker\":{\"colorbar\":{\"outlinewidth\":0,\"ticks\":\"\"}}}],\"carpet\":[{\"aaxis\":{\"endlinecolor\":\"#2a3f5f\",\"gridcolor\":\"white\",\"linecolor\":\"white\",\"minorgridcolor\":\"white\",\"startlinecolor\":\"#2a3f5f\"},\"baxis\":{\"endlinecolor\":\"#2a3f5f\",\"gridcolor\":\"white\",\"linecolor\":\"white\",\"minorgridcolor\":\"white\",\"startlinecolor\":\"#2a3f5f\"},\"type\":\"carpet\"}],\"table\":[{\"cells\":{\"fill\":{\"color\":\"#EBF0F8\"},\"line\":{\"color\":\"white\"}},\"header\":{\"fill\":{\"color\":\"#C8D4E3\"},\"line\":{\"color\":\"white\"}},\"type\":\"table\"}],\"barpolar\":[{\"marker\":{\"line\":{\"color\":\"#E5ECF6\",\"width\":0.5},\"pattern\":{\"fillmode\":\"overlay\",\"size\":10,\"solidity\":0.2}},\"type\":\"barpolar\"}],\"pie\":[{\"automargin\":true,\"type\":\"pie\"}]},\"layout\":{\"autotypenumbers\":\"strict\",\"colorway\":[\"#636efa\",\"#EF553B\",\"#00cc96\",\"#ab63fa\",\"#FFA15A\",\"#19d3f3\",\"#FF6692\",\"#B6E880\",\"#FF97FF\",\"#FECB52\"],\"font\":{\"color\":\"#2a3f5f\"},\"hovermode\":\"closest\",\"hoverlabel\":{\"align\":\"left\"},\"paper_bgcolor\":\"white\",\"plot_bgcolor\":\"#E5ECF6\",\"polar\":{\"bgcolor\":\"#E5ECF6\",\"angularaxis\":{\"gridcolor\":\"white\",\"linecolor\":\"white\",\"ticks\":\"\"},\"radialaxis\":{\"gridcolor\":\"white\",\"linecolor\":\"white\",\"ticks\":\"\"}},\"ternary\":{\"bgcolor\":\"#E5ECF6\",\"aaxis\":{\"gridcolor\":\"white\",\"linecolor\":\"white\",\"ticks\":\"\"},\"baxis\":{\"gridcolor\":\"white\",\"linecolor\":\"white\",\"ticks\":\"\"},\"caxis\":{\"gridcolor\":\"white\",\"linecolor\":\"white\",\"ticks\":\"\"}},\"coloraxis\":{\"colorbar\":{\"outlinewidth\":0,\"ticks\":\"\"}},\"colorscale\":{\"sequential\":[[0.0,\"#0d0887\"],[0.1111111111111111,\"#46039f\"],[0.2222222222222222,\"#7201a8\"],[0.3333333333333333,\"#9c179e\"],[0.4444444444444444,\"#bd3786\"],[0.5555555555555556,\"#d8576b\"],[0.6666666666666666,\"#ed7953\"],[0.7777777777777778,\"#fb9f3a\"],[0.8888888888888888,\"#fdca26\"],[1.0,\"#f0f921\"]],\"sequentialminus\":[[0.0,\"#0d0887\"],[0.1111111111111111,\"#46039f\"],[0.2222222222222222,\"#7201a8\"],[0.3333333333333333,\"#9c179e\"],[0.4444444444444444,\"#bd3786\"],[0.5555555555555556,\"#d8576b\"],[0.6666666666666666,\"#ed7953\"],[0.7777777777777778,\"#fb9f3a\"],[0.8888888888888888,\"#fdca26\"],[1.0,\"#f0f921\"]],\"diverging\":[[0,\"#8e0152\"],[0.1,\"#c51b7d\"],[0.2,\"#de77ae\"],[0.3,\"#f1b6da\"],[0.4,\"#fde0ef\"],[0.5,\"#f7f7f7\"],[0.6,\"#e6f5d0\"],[0.7,\"#b8e186\"],[0.8,\"#7fbc41\"],[0.9,\"#4d9221\"],[1,\"#276419\"]]},\"xaxis\":{\"gridcolor\":\"white\",\"linecolor\":\"white\",\"ticks\":\"\",\"title\":{\"standoff\":15},\"zerolinecolor\":\"white\",\"automargin\":true,\"zerolinewidth\":2},\"yaxis\":{\"gridcolor\":\"white\",\"linecolor\":\"white\",\"ticks\":\"\",\"title\":{\"standoff\":15},\"zerolinecolor\":\"white\",\"automargin\":true,\"zerolinewidth\":2},\"scene\":{\"xaxis\":{\"backgroundcolor\":\"#E5ECF6\",\"gridcolor\":\"white\",\"linecolor\":\"white\",\"showbackground\":true,\"ticks\":\"\",\"zerolinecolor\":\"white\",\"gridwidth\":2},\"yaxis\":{\"backgroundcolor\":\"#E5ECF6\",\"gridcolor\":\"white\",\"linecolor\":\"white\",\"showbackground\":true,\"ticks\":\"\",\"zerolinecolor\":\"white\",\"gridwidth\":2},\"zaxis\":{\"backgroundcolor\":\"#E5ECF6\",\"gridcolor\":\"white\",\"linecolor\":\"white\",\"showbackground\":true,\"ticks\":\"\",\"zerolinecolor\":\"white\",\"gridwidth\":2}},\"shapedefaults\":{\"line\":{\"color\":\"#2a3f5f\"}},\"annotationdefaults\":{\"arrowcolor\":\"#2a3f5f\",\"arrowhead\":0,\"arrowwidth\":1},\"geo\":{\"bgcolor\":\"white\",\"landcolor\":\"#E5ECF6\",\"subunitcolor\":\"white\",\"showland\":true,\"showlakes\":true,\"lakecolor\":\"white\"},\"title\":{\"x\":0.05},\"mapbox\":{\"style\":\"light\"}}},\"geo\":{\"domain\":{\"x\":[0.0,1.0],\"y\":[0.0,1.0]},\"center\":{},\"scope\":\"usa\",\"lakecolor\":\"rgb(255, 255, 255)\"},\"legend\":{\"title\":{\"text\":\"PARTY\"},\"tracegroupgap\":0},\"margin\":{\"t\":60},\"title\":{\"text\":\"2020 Presidential Election Results by State (D and R)\"}},                        {\"responsive\": true}                    ).then(function(){\n",
              "                            \n",
              "var gd = document.getElementById('8b8cd701-c28b-4a35-af72-ba3c4435d514');\n",
              "var x = new MutationObserver(function (mutations, observer) {{\n",
              "        var display = window.getComputedStyle(gd).display;\n",
              "        if (!display || display === 'none') {{\n",
              "            console.log([gd, 'removed!']);\n",
              "            Plotly.purge(gd);\n",
              "            observer.disconnect();\n",
              "        }}\n",
              "}});\n",
              "\n",
              "// Listen for the removal of the full notebook cells\n",
              "var notebookContainer = gd.closest('#notebook-container');\n",
              "if (notebookContainer) {{\n",
              "    x.observe(notebookContainer, {childList: true});\n",
              "}}\n",
              "\n",
              "// Listen for the clearing of the current output cell\n",
              "var outputEl = gd.closest('.output');\n",
              "if (outputEl) {{\n",
              "    x.observe(outputEl, {childList: true});\n",
              "}}\n",
              "\n",
              "                        })                };                            </script>        </div>\n",
              "</body>\n",
              "</html>"
            ]
          },
          "metadata": {}
        }
      ]
    }
  ]
}